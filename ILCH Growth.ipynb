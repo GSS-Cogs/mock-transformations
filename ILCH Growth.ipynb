{
 "cells": [
  {
   "cell_type": "markdown",
   "metadata": {},
   "source": [
    "# ILCH (Index Of Labour Costs Per Hour) - Growth\n",
    "\n",
    "-----\n",
    "\n",
    "### Requirements\n",
    "\n",
    "We need to make a dataset from two input sources, the sa (seasonal adjusted) and nsa (non seasonally adjusted) input.\n",
    "excels.\n",
    "\n",
    "Use and combine tabs 3,4,5  & 6 from **both** sources.\n",
    "\n",
    "#### Observations & Dimensions\n",
    "\n",
    "The `observations` should be apparent.\n",
    "\n",
    "The required dimensions are:\n",
    "\n",
    "* **Geography** - it's all UK level data (the code for UK is \"K02000001\")\n",
    "* **Time** - either a year, or year & quarter in the format YYYY QQ\n",
    "* **Seasonal Adjustment** - either \"Seasonally Adjusted\" or \"Non Seasonaly Adjusted\"\n",
    "* **Growth Type** - either \"quarter on quarter\" or \"year on year\" \n",
    "* **Labour** - one of \"Labour Costs per Hour\", \"Wage Costs per Hour\", \"Other Costs per Hour\" \"Labour Costs per Hour Excluding Bonuses and Arrears\"\n",
    "\n",
    "* **Indicator**  - the big merged cells, e.g \"ILCH_A\n",
    "Agriculture, Forestry and Fishing\" etc\n",
    "\n",
    "\n",
    "-----\n",
    "    \n",
    "Notes:\n",
    "\n",
    "It's always worth getting the file out of /sources and having a look over."
   ]
  },
  {
   "cell_type": "code",
   "execution_count": 4,
   "metadata": {},
   "outputs": [
    {
     "name": "stdout",
     "output_type": "stream",
     "text": [
      "Loading ./sources/ilchtablestemplatesa.xls which has size 437248 bytes\n",
      "Table names: ['INTRODUCTION', 'DEFINITIONS', '1. Industry index SA', '2. Sector index SA', '3. Industry annual growth SA', '4. Sector annual growth SA', '5. Industry quarterly growth SA', '6. Sector quarterly growth SA', '7. Industry costs SA', '8. Sector costs SA']\n"
     ]
    }
   ],
   "source": [
    "from databaker.framework import *\n",
    "\n",
    "# the Seasonally Adjusted Tabs\n",
    "sa_tabs = loadxlstabs(\"./sources/ilchtablestemplatesa.xls\")"
   ]
  },
  {
   "cell_type": "code",
   "execution_count": 5,
   "metadata": {},
   "outputs": [
    {
     "name": "stdout",
     "output_type": "stream",
     "text": [
      "Loading ./sources/ilchtablestemplatensa.xls which has size 297984 bytes\n",
      "Table names: ['INTRODUCTION', 'DEFINITIONS', '1. Industry index', '2. Sector index', '3. Industry growth rates', '4. Sector growth rates', '5. Industry costs', '6. Sector costs']\n"
     ]
    }
   ],
   "source": [
    "\n",
    "# the None Seasonally Adjusted Tabs\n",
    "nsa_tabs = loadxlstabs(\"./sources/ilchtablestemplatensa.xls\")"
   ]
  }
 ],
 "metadata": {
  "kernelspec": {
   "display_name": "Python 3",
   "language": "python",
   "name": "python3"
  },
  "language_info": {
   "codemirror_mode": {
    "name": "ipython",
    "version": 3
   },
   "file_extension": ".py",
   "mimetype": "text/x-python",
   "name": "python",
   "nbconvert_exporter": "python",
   "pygments_lexer": "ipython3",
   "version": "3.7.3"
  }
 },
 "nbformat": 4,
 "nbformat_minor": 4
}
