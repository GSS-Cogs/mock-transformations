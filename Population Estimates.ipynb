{
 "cells": [
  {
   "cell_type": "markdown",
   "metadata": {},
   "source": [
    "# Population Estimates\n",
    "\n",
    "-----\n",
    "\n",
    "### Requirements\n",
    "\n",
    "Table called 'data'\n",
    "\n",
    "#### Observations & Dimensions\n",
    "\n",
    "The `observations` should be apparent.\n",
    "\n",
    "The required dimensions are:\n",
    "\n",
    "* **Geography** - get this from the top row \"title\", cut off the non place names.\n",
    "* **Time** - use dates from left hand column\n",
    "* **CDID** - from across the top\n",
    "\n",
    "-----\n",
    "Notes:\n",
    "\n",
    "* This should be pretty straight forward in data baker, but consider doing it in pure pandas after you're done, we'll need\n",
    "to do that from time to time.\n",
    "\n",
    "To do it with pandas, replace the load cell with\n",
    "```\n",
    "tidy_sheet = pd.read_excel('./sources/pop.xlsx', sheetname='Sheet1')\n",
    "```\n"
   ]
  },
  {
   "cell_type": "code",
   "execution_count": 2,
   "metadata": {},
   "outputs": [
    {
     "name": "stdout",
     "output_type": "stream",
     "text": [
      "Loading ./sources/pop.xls which has size 12288 bytes\n",
      "Table names: ['data']\n"
     ]
    }
   ],
   "source": [
    "from databaker.framework import *\n",
    "\n",
    "# the Seasonally Adjusted Tabs\n",
    "tidy_sheet = loadxlstabs(\"./sources/pop.xls\")"
   ]
  }
 ],
 "metadata": {
  "kernelspec": {
   "display_name": "Python 3",
   "language": "python",
   "name": "python3"
  },
  "language_info": {
   "codemirror_mode": {
    "name": "ipython",
    "version": 3
   },
   "file_extension": ".py",
   "mimetype": "text/x-python",
   "name": "python",
   "nbconvert_exporter": "python",
   "pygments_lexer": "ipython3",
   "version": "3.7.3"
  }
 },
 "nbformat": 4,
 "nbformat_minor": 4
}
