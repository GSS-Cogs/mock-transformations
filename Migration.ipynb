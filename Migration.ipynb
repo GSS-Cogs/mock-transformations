{
 "cells": [
  {
   "cell_type": "markdown",
   "metadata": {},
   "source": [
    "# Migration - Local Area\n",
    "\n",
    "-----\n",
    "\n",
    "### Requirements\n",
    "\n",
    "\n",
    "\n",
    "#### Observations & Dimensions\n",
    "\n",
    "We're taking 5 tabs (see below table). The `observations` and the `indictor` will vary a little for each tab,\n",
    "\n",
    "|Tab name| Get obs from columns named | Set 'Indictor' dimension to |\n",
    "|---|---|---|\n",
    "| Short Term Migration Flow | Short-Term International Migration Inflow Estimates | Inflow Estimates\n",
    "| Non-UK Born Population | Resident Population | Not UK Born Population\n",
    "| Non British Population | Resident Population |  Not British Population\n",
    "| NINo Registrations | Migrant NINo Registrations | NINo Registrations\n",
    "| GP Registrations | New Migrant GP Registrations | New Gp Registrations\n",
    "\n",
    "\n",
    "The required dimensions are:\n",
    "\n",
    "* **Geography** - use the area code column\n",
    "* **Time** - from the top and just the year, so \"Jan 2009 to Dec 2009\" == 2009\n",
    "* **Indictor** - as per above table\n",
    "\n",
    "-----\n",
    "    \n",
    "Notes:\n",
    "\n",
    "It's always worth getting the file out of /sources and having a look over."
   ]
  },
  {
   "cell_type": "code",
   "execution_count": 2,
   "metadata": {},
   "outputs": [
    {
     "name": "stdout",
     "output_type": "stream",
     "text": [
      "Loading ./sources/lamisspreadsheet.xls which has size 1138688 bytes\n",
      "Table names: ['Notes', 'Migration Flows', 'Short-Term Migration Inflows', 'Non-UK Born Population', 'Non-British Population', 'NINo Registrations', 'GP Registrations', 'Births to Non-UK Born Mothers']\n"
     ]
    }
   ],
   "source": [
    "from databaker.framework import *\n",
    "\n",
    "# the Seasonally Adjusted Tabs\n",
    "sa_tabs = loadxlstabs(\"./sources/lamisspreadsheet.xls\")"
   ]
  },
  {
   "cell_type": "code",
   "execution_count": null,
   "metadata": {},
   "outputs": [],
   "source": []
  }
 ],
 "metadata": {
  "kernelspec": {
   "display_name": "Python 3",
   "language": "python",
   "name": "python3"
  },
  "language_info": {
   "codemirror_mode": {
    "name": "ipython",
    "version": 3
   },
   "file_extension": ".py",
   "mimetype": "text/x-python",
   "name": "python",
   "nbconvert_exporter": "python",
   "pygments_lexer": "ipython3",
   "version": "3.7.3"
  }
 },
 "nbformat": 4,
 "nbformat_minor": 4
}
