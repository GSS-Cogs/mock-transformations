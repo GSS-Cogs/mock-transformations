{
 "cells": [
  {
   "cell_type": "markdown",
   "metadata": {},
   "source": [
    "# Tourism\n",
    "\n",
    "-----\n",
    "\n",
    "### Requirements\n",
    "\n",
    "Extract the data from tab 2 and tab 4.\n",
    "\n",
    "#### Observations & Dimensions\n",
    "\n",
    "For `observations` we want the `purpose` data, we **dont** want the `all visits`.\n",
    "\n",
    "\n",
    "The required dimensions are:\n",
    "\n",
    "* **Geography** - it's all UK level data (the code for UK is \"K02000001\")\n",
    "* **Time** - in the format MMM YYYY\n",
    "* **Purpose** - one of Holiday, Business, Visiting friends or relatives, Miscellaneous\n",
    "* **Direction of Travel** - either \"overseas visits to the uk\", or \"uk visits abroad\"\n",
    "* **Units** - constant value of '1000'\n",
    "\n",
    "-----\n",
    "Notes:\n",
    "\n",
    "* We dont want the data markings against 2019 dates\n",
    "* We don't want the ad hoc summary data at the bottom , \"latest three months..\" etc"
   ]
  },
  {
   "cell_type": "code",
   "execution_count": 4,
   "metadata": {},
   "outputs": [
    {
     "name": "stdout",
     "output_type": "stream",
     "text": [
      "Loading ./sources/tourism.xls which has size 180736 bytes\n",
      "Table names: ['Index', 'Table 1', 'Table 2', 'Table 3', 'Table 4', 'Table 5', 'Table 6']\n"
     ]
    }
   ],
   "source": [
    "from databaker.framework import *\n",
    "\n",
    "tabs = loadxlstabs(\"./sources/tourism.xls\") # load tabs"
   ]
  },
  {
   "cell_type": "code",
   "execution_count": null,
   "metadata": {},
   "outputs": [],
   "source": []
  }
 ],
 "metadata": {
  "kernelspec": {
   "display_name": "Python 3",
   "language": "python",
   "name": "python3"
  },
  "language_info": {
   "codemirror_mode": {
    "name": "ipython",
    "version": 3
   },
   "file_extension": ".py",
   "mimetype": "text/x-python",
   "name": "python",
   "nbconvert_exporter": "python",
   "pygments_lexer": "ipython3",
   "version": "3.7.3"
  }
 },
 "nbformat": 4,
 "nbformat_minor": 4
}
