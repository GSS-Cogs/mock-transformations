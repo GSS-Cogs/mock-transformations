{
 "cells": [
  {
   "cell_type": "markdown",
   "metadata": {},
   "source": [
    "# Small Area Population Estimates\n",
    "\n",
    "\n",
    "**NOTE - this is a big for a git repo, you'll need to download the following and uninstall into /sources**\n",
    "`https://www.ons.gov.uk/file?uri=/peoplepopulationandcommunity/populationandmigration/populationestimates/datasets/lowersuperoutputareamidyearpopulationestimates/mid2017/sape20dt1mid2017lsoasyoaestimatesformatted.zip`\n",
    "\n",
    "### Requirements\n",
    "\n",
    "Extract tabs, Mid-2017 Persons, Mid-2017 Male, Mid-2017 Female\n",
    "\n",
    "#### Observations & Dimensions\n",
    "\n",
    "The `observations` should be apparent.\n",
    "\n",
    "The required dimensions are:\n",
    "\n",
    "* **Geography** - take this from \"area codes\"\n",
    "* **Time** - get the time from laarge bol\n",
    "* **Age** - \"All Ages\" as well as all the bolded numbers to the right\n",
    "* **Gender** - from the tab name\n",
    "\n",
    "-----\n",
    "Notes:\n",
    "\n",
    "* Haven't tried it but it's very likely (read: is) too big for databaker. You'll need to use pandas directly."
   ]
  },
  {
   "cell_type": "code",
   "execution_count": null,
   "metadata": {},
   "outputs": [],
   "source": []
  },
  {
   "cell_type": "code",
   "execution_count": null,
   "metadata": {},
   "outputs": [],
   "source": []
  }
 ],
 "metadata": {
  "kernelspec": {
   "display_name": "Python 3",
   "language": "python",
   "name": "python3"
  },
  "language_info": {
   "codemirror_mode": {
    "name": "ipython",
    "version": 3
   },
   "file_extension": ".py",
   "mimetype": "text/x-python",
   "name": "python",
   "nbconvert_exporter": "python",
   "pygments_lexer": "ipython3",
   "version": "3.7.3"
  }
 },
 "nbformat": 4,
 "nbformat_minor": 4
}
